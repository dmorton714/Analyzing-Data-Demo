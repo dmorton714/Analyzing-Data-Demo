{
 "cells": [
  {
   "cell_type": "code",
   "execution_count": 116,
   "metadata": {},
   "outputs": [],
   "source": [
    "import pandas as pd "
   ]
  },
  {
   "attachments": {},
   "cell_type": "markdown",
   "metadata": {},
   "source": [
    "\n",
    "Link to the data set used: https://www.kaggle.com/datasets/thedevastator/global-video-game-sales-ratings?resource=download \n",
    "\n",
    "## Importing our CSV file "
   ]
  },
  {
   "cell_type": "code",
   "execution_count": 117,
   "metadata": {},
   "outputs": [],
   "source": [
    "df = pd.read_csv('Raw Data.csv')"
   ]
  },
  {
   "attachments": {},
   "cell_type": "markdown",
   "metadata": {},
   "source": [
    "<h3> Printing our first few rows to get a look at the data </h3>\n",
    "use the df.head() function to see the first bit of the sheet. "
   ]
  },
  {
   "cell_type": "code",
   "execution_count": null,
   "metadata": {},
   "outputs": [],
   "source": []
  },
  {
   "attachments": {},
   "cell_type": "markdown",
   "metadata": {},
   "source": [
    "Lets see the shape of the data frame and use the df.shape method. \n",
    "<br>\n",
    "Doc: https://pandas.pydata.org/pandas-docs/version/0.23/generated/pandas.DataFrame.shape.html"
   ]
  },
  {
   "cell_type": "code",
   "execution_count": null,
   "metadata": {},
   "outputs": [],
   "source": []
  },
  {
   "attachments": {},
   "cell_type": "markdown",
   "metadata": {},
   "source": [
    "Here we want to get an idea of whats in our data frame, objects, floats, ect. \n",
    "<br>\n",
    "The info() method prints information about the DataFrame.\n",
    "\n",
    "info() documentation : https://www.w3schools.com/python/pandas/ref_df_info.asp#:~:text=The%20info()%20method%20prints,method%20actually%20prints%20the%20info."
   ]
  },
  {
   "cell_type": "code",
   "execution_count": null,
   "metadata": {},
   "outputs": [],
   "source": []
  },
  {
   "attachments": {},
   "cell_type": "markdown",
   "metadata": {},
   "source": [
    "List the columns to get an idea of what to sort by. \n",
    "<br>\n",
    "Column name doc : https://sparkbyexamples.com/pandas/pandas-get-column-names/"
   ]
  },
  {
   "cell_type": "code",
   "execution_count": null,
   "metadata": {},
   "outputs": [],
   "source": []
  },
  {
   "attachments": {},
   "cell_type": "markdown",
   "metadata": {},
   "source": [
    "Sort the data by NA_Sales. \n",
    "<br>\n",
    "Use the ascending and inplace argumants. \n",
    "<br>\n",
    "Pandas sort doc : https://pandas.pydata.org/docs/reference/api/pandas.DataFrame.sort_values.html\n"
   ]
  },
  {
   "cell_type": "code",
   "execution_count": null,
   "metadata": {},
   "outputs": [],
   "source": []
  },
  {
   "attachments": {},
   "cell_type": "markdown",
   "metadata": {},
   "source": [
    "Use the .unique() method to find unique values in the Platform Col.  \n",
    "\n",
    "doc : https://www.geeksforgeeks.org/python-pandas-series-unique/"
   ]
  },
  {
   "cell_type": "code",
   "execution_count": null,
   "metadata": {},
   "outputs": [],
   "source": []
  },
  {
   "attachments": {},
   "cell_type": "markdown",
   "metadata": {},
   "source": [
    "Use the value counts methods to count the publishers Column \n",
    "<br>\n",
    "Assign this to df2 \n",
    "<br>\n",
    "Print the first 20 rows\n",
    "<br>\n",
    "Doc: https://pandas.pydata.org/docs/reference/api/pandas.Series.value_counts.html"
   ]
  },
  {
   "cell_type": "code",
   "execution_count": null,
   "metadata": {},
   "outputs": [],
   "source": []
  },
  {
   "attachments": {},
   "cell_type": "markdown",
   "metadata": {},
   "source": [
    "<h3> Here we will uses some querys to answer questions </h3>\n",
    "What us a Query: \n",
    "A query can give you an answer to a simple question, perform calculations, combine data from different tables, add, change, or delete data from a database. Since queries are so versatile, there are many types of queries and you would create a type of query based on the task.\n",
    "<br>\n",
    "<br>\n",
    "Lets find the Nintendo games that have a critic score of 90 or better. \n",
    "<br>\n",
    "<br>\n",
    "Doc : https://pandas.pydata.org/docs/reference/api/pandas.DataFrame.query.html"
   ]
  },
  {
   "attachments": {},
   "cell_type": "markdown",
   "metadata": {},
   "source": [
    "query the publisher col and drop non-nintendo values\n",
    "<br>\n",
    "query the critic scores over 90\n",
    "<br>\n",
    "sort the remaining DF to by critic score \n",
    "<br>\n",
    "print the top 20 rows "
   ]
  },
  {
   "cell_type": "code",
   "execution_count": null,
   "metadata": {},
   "outputs": [],
   "source": []
  }
 ],
 "metadata": {
  "kernelspec": {
   "display_name": "base",
   "language": "python",
   "name": "python3"
  },
  "language_info": {
   "codemirror_mode": {
    "name": "ipython",
    "version": 3
   },
   "file_extension": ".py",
   "mimetype": "text/x-python",
   "name": "python",
   "nbconvert_exporter": "python",
   "pygments_lexer": "ipython3",
   "version": "3.9.7"
  },
  "orig_nbformat": 4,
  "vscode": {
   "interpreter": {
    "hash": "40d3a090f54c6569ab1632332b64b2c03c39dcf918b08424e98f38b5ae0af88f"
   }
  }
 },
 "nbformat": 4,
 "nbformat_minor": 2
}
